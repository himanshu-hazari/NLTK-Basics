{
 "cells": [
  {
   "cell_type": "markdown",
   "metadata": {},
   "source": [
    "NLTK 3.0, downloadable for free from http://nltk.org/ <br>\n",
    "Download the nltk using pip command as well :-"
   ]
  },
  {
   "cell_type": "code",
   "execution_count": 2,
   "metadata": {
    "collapsed": false
   },
   "outputs": [
    {
     "name": "stdout",
     "output_type": "stream",
     "text": [
      "Requirement already satisfied: nltk in c:\\users\\himanshu\\anaconda3\\lib\\site-packages\n",
      "Requirement already satisfied: six in c:\\users\\himanshu\\anaconda3\\lib\\site-packages (from nltk)\n"
     ]
    }
   ],
   "source": [
    "!pip install nltk #install the nltk"
   ]
  },
  {
   "cell_type": "code",
   "execution_count": 5,
   "metadata": {
    "collapsed": false
   },
   "outputs": [
    {
     "name": "stdout",
     "output_type": "stream",
     "text": [
      "showing info https://raw.githubusercontent.com/nltk/nltk_data/gh-pages/index.xml\n",
      "showing info https://raw.githubusercontent.com/nltk/nltk_data/gh-pages/index.xml\n",
      "showing info https://raw.githubusercontent.com/nltk/nltk_data/gh-pages/index.xml\n",
      "showing info https://raw.githubusercontent.com/nltk/nltk_data/gh-pages/index.xml\n"
     ]
    },
    {
     "data": {
      "text/plain": [
       "True"
      ]
     },
     "execution_count": 5,
     "metadata": {},
     "output_type": "execute_result"
    }
   ],
   "source": [
    "import nltk #import the nltk\n",
    "nltk.download() #to download the data on the machine C:\\Users\\Himanshu\\AppData\\Roaming\\nltk_data"
   ]
  },
  {
   "cell_type": "code",
   "execution_count": 4,
   "metadata": {
    "collapsed": false
   },
   "outputs": [
    {
     "name": "stdout",
     "output_type": "stream",
     "text": [
      "*** Introductory Examples for the NLTK Book ***\n",
      "Loading text1, ..., text9 and sent1, ..., sent9\n",
      "Type the name of the text or sentence to view it.\n",
      "Type: 'texts()' or 'sents()' to list the materials.\n",
      "text1: Moby Dick by Herman Melville 1851\n",
      "text2: Sense and Sensibility by Jane Austen 1811\n",
      "text3: The Book of Genesis\n",
      "text4: Inaugural Address Corpus\n",
      "text5: Chat Corpus\n",
      "text6: Monty Python and the Holy Grail\n",
      "text7: Wall Street Journal\n",
      "text8: Personals Corpus\n",
      "text9: The Man Who Was Thursday by G . K . Chesterton 1908\n"
     ]
    }
   ],
   "source": [
    "from nltk.book import * #to load some texts"
   ]
  },
  {
   "cell_type": "markdown",
   "metadata": {},
   "source": [
    "<I>Any time we want to find out about these downloaded texts, we just have to enter their names at the Python prompt</I><br>\n",
    "like In[] text1<br>\n",
    "<B><U>concordance view</U></B><br>\n",
    "Shows us every occurrence of a given word, together with some context."
   ]
  },
  {
   "cell_type": "code",
   "execution_count": 6,
   "metadata": {
    "collapsed": false
   },
   "outputs": [
    {
     "name": "stdout",
     "output_type": "stream",
     "text": [
      "Displaying 25 of 49 matches:\n",
      "des cometh within the chaos of this monster ' s mouth , be it beast , boat , or\n",
      "nter into the dreadful gulf of this monster ' s ( whale ' s ) mouth , are immed\n",
      "time with a lance ; but the furious monster at length rushed on the boat ; hims\n",
      " . Such a portentous and mysterious monster roused all my curiosity . Then the \n",
      "and flank with the most exasperated monster . Long usage had , for this Stubb ,\n",
      "ACK ).-- Under this head I reckon a monster which , by the various names of Fin\n",
      "arned the history of that murderous monster against whom I and all the others h\n",
      "ocity , cunning , and malice in the monster attacked ; therefore it was , that \n",
      "iathan is restricted to the ignoble monster primitively pursued in the North ; \n",
      " and incontestable character of the monster to strike the imagination with unwo\n",
      "mberment . Then , in darting at the monster , knife in hand , he had but given \n",
      "e rock ; instead of this we saw the monster sailing off with the utmost gravity\n",
      "e at Constantinople , a great sea - monster was captured in the neighboring Pro\n",
      " Of what precise species this sea - monster was , is not mentioned . But as he \n",
      "man reasoning , Procopius ' s sea - monster , that for half a century stove the\n",
      "hale ,\" as he called the fictitious monster which he declared to be incessantly\n",
      "d his intention to hunt that mortal monster in person . But such a supposition \n",
      "ng us on and on , in order that the monster might turn round upon us , and rend\n",
      "d famous , and most deadly immortal monster , Don ;-- but that would be too lon\n",
      "oluntarily lifted his voice for the monster , though for some little time past \n",
      "s rescuing Andromeda from the sea - monster or whale . Where did Guido get the \n",
      " huge corpulence of that Hogarthian monster undulates on the surface , scarcely\n",
      "nd is drawn just balancing upon the monster ' s spine ; and standing in that pr\n",
      " of cutting - in ) hove over to the monster as if to a quay ; and a boat , hurr\n",
      "eet in length . They fancy that the monster to which these arms belonged ordina\n"
     ]
    }
   ],
   "source": [
    "text1.concordance(\"monster\")"
   ]
  },
  {
   "cell_type": "code",
   "execution_count": null,
   "metadata": {
    "collapsed": true
   },
   "outputs": [],
   "source": []
  }
 ],
 "metadata": {
  "kernelspec": {
   "display_name": "Python 3",
   "language": "python",
   "name": "python3"
  },
  "language_info": {
   "codemirror_mode": {
    "name": "ipython",
    "version": 3
   },
   "file_extension": ".py",
   "mimetype": "text/x-python",
   "name": "python",
   "nbconvert_exporter": "python",
   "pygments_lexer": "ipython3",
   "version": "3.6.0"
  }
 },
 "nbformat": 4,
 "nbformat_minor": 2
}
